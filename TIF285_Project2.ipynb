{
 "cells": [
  {
   "cell_type": "markdown",
   "metadata": {},
   "source": [
    "# Project 2: The three-body problem<br/>*solving a chaotic motion problem using deep neural networks*\n",
    "## Learning from data [TIF285], Chalmers, Fall 2024\n",
    "\n",
    "Last revised: 9-Oct-2024 by Christian Forssén [christian.forssen@chalmers.se]"
   ]
  },
  {
   "cell_type": "markdown",
   "metadata": {},
   "source": [
    "## Instructions"
   ]
  },
  {
   "cell_type": "markdown",
   "metadata": {},
   "source": [
    "- See deadline on the course web page\n",
    "- This project is performed in groups of two students. \n",
    "- The second part of the project is optional. See examination rules on the course web page.\n",
    "- Hand-in your written report and your solution source code via Canvas. \n",
    "- Please also upload your ANN model with the trained parameters as `myNN.keras` using the keras `save_model` method: `tf.keras.models.save_model(model, 'myNN.keras')`, which employs the native Keras file format."
   ]
  },
  {
   "cell_type": "markdown",
   "metadata": {},
   "source": [
    "### Written report\n",
    "- Page limit: 6 pages (excluding title page and list of references). 3 extra pages are allowed when doing also the optional extra task.\n",
    "- Give a short description of the nature of the problem and the methods you have used.\n",
    "- Include your results either in figure form or in a table. All tables and figures should have relevant captions and labels on the axes.\n",
    "- Try to give an interpretation of you results.\n",
    "- Upload the source code of your program as a separate file (.ipynb or .py). Comment your program properly."
   ]
  },
  {
   "cell_type": "markdown",
   "metadata": {},
   "source": [
    "### Learning goals:\n",
    "* Apply deep neural networks to build an emulator for a physics problem that is difficult and costly to solve numerically.\n",
    "* Get familiar with [tensorflow](https://www.tensorflow.org/), the popular open-source library to train ML models created by the Google Brain team.\n",
    "* Get experience with some diagnostics used in the training of neural networks. \n",
    "* Understand the difficulties and choices involved when training a deep neural network.\n",
    "* This is a less-guided set of tasks and you will have to put together ideas and tools we've discussed.\n",
    "* Reproduce scientific results from a published paper."
   ]
  },
  {
   "cell_type": "markdown",
   "metadata": {},
   "source": [
    "## Main task\n",
    "The overall project goal is to reproduce various results in a paper: [*Newton vs the machine: solving the chaotic three-body problem using deep neural networks*](https://arxiv.org/abs/1910.07291) by Philip G. Breen, Christopher N. Foley, Tjarda Boekholt, Simon Portegies Zwart.\n",
    "\n",
    "The authors have graciously agreed that we use the raw data from their study for this project (but please don't distribute any further)."
   ]
  },
  {
   "cell_type": "markdown",
   "metadata": {},
   "source": [
    "### Physical problem"
   ]
  },
  {
   "cell_type": "markdown",
   "metadata": {},
   "source": [
    "In this project we are studying the motion of three bodies of equal mass that move under the mutual influence of classical gravitational forces. Due to the system's chaotic nature, the solution to this problem for a given initialization can only be found by performing iterative numerical calculations that have potentially very large computational cost. \n",
    "\n",
    "Here you will demonstrate that a deep artificial neural network (ANN) is able to learn the solutions to the equations of motion from a set of numerical training data. This ANN can then provide good approximations for new initial conditions at a predictable (and small) computational cost."
   ]
  },
  {
   "cell_type": "markdown",
   "metadata": {},
   "source": [
    "The training data that we will be using was generated with a state-of-the-art numerical code `Brutus` [[Boekholt, T., Portegies Zwart, S. On the reliability of N-body simulations. Comput. Astrophys. 2, 2 (2015).](https://doi.org/10.1186/s40668-014-0005-3)]. The run time of that code for the trajectories studied here ranges from minutes up to hours. In the end, it will therefore be relevant to quantify what is the computational cost of making a prediction with our constructed ANN."
   ]
  },
  {
   "cell_type": "markdown",
   "metadata": {},
   "source": [
    "### Initial condition and choice of coordinates\n",
    "- We work in the the center-of-mass (CM) frame and only consider the scenario in which the three masses start from rest.\n",
    "- It can be shown that, without loss of generality, it is always possible to choose a coordinate system such that the three particles $p_1, p_2, p_3$ move in a plane so that just $(x,y)$ coordinates are needed.\n",
    "- Furthermore, the $(x,y)$ coordinates can be chosen and scaled such that particle 1 starts in position $(1,0)$ and the initial position of particle 2 is located in the second quantile ($x<0$, $y>0$).\n",
    "- Since we are in the CM frame and our system consists of three equal masses we will always have $x_1+x_2+x_3=0$ and $y_1+y_2+y_3=0$. Consequently, we can determine the position of particle 3 from knowledge of the positions of particles 1 and 2.\n",
    "\n",
    "See also Fig. 1 in the paper."
   ]
  },
  {
   "cell_type": "markdown",
   "metadata": {},
   "source": [
    "### Data\n",
    "The data that you should use is made available as a compressed numpy file on the Canvas course page. Note that, due to its size, it is not included in the `tif285` git repo.\n",
    "\n",
    "Navigate to Files > Project2  and download `data_project2.npz` into your work directory."
   ]
  },
  {
   "cell_type": "code",
   "execution_count": 3,
   "metadata": {},
   "outputs": [],
   "source": [
    "# Load modules\n",
    "import numpy as np\n",
    "import tensorflow as tf\n",
    "from tensorflow import keras\n",
    "import matplotlib.pyplot as plt\n",
    "\n",
    "# Add your own import statements if needed\n",
    "import time"
   ]
  },
  {
   "cell_type": "code",
   "execution_count": 4,
   "metadata": {},
   "outputs": [
    {
     "name": "stdout",
     "output_type": "stream",
     "text": [
      "(9000, 1000, 9)\n"
     ]
    }
   ],
   "source": [
    "# Load and unpack a compressed npy array\n",
    "load_data = np.load('data_project2.npz')\n",
    "data = load_data['arr_0']\n",
    "print(data.shape)"
   ]
  },
  {
   "cell_type": "markdown",
   "metadata": {},
   "source": [
    "- The first axis labels the 9000 data samples.\n",
    "- The second axis is the 1000 time steps, which corresponds to 3.9 time units. The original data is composed of 2561 time steps, reaching 10 time units, but as discussed in the paper the training of the ANN works better for the somewhat shorter time interval.\n",
    "- The nine columns of the last axis correspond to: $[t, x_1, y_1, x_2, y_2, v_{x,1}, v_{y,1}, v_{x,2}, v_{y,2}]$ (note again that the position of particle 3 can be obtained from the positions of particles 1 and 2). The velocity data is only used in the extra task.\n",
    "- Some of the trajectories contain collisions such that the positions of the particles get stuck at (0, 0). Check the data to find those trajectories and remove them before training your model.\n",
    "- Note that the trajectories are represented by data points in sets of 1000 (time steps). While creating batches of data, make sure you are not splitting data from one trajectory into different batches."
   ]
  },
  {
   "cell_type": "markdown",
   "metadata": {},
   "source": [
    "### List of tasks\n",
    "1. Download and load the pre-trained ANN from the paper (see below) and construct/train your own ANN using the provided data. Compare the complexity (number of trainable parameters) in the pre-trained versus your own ANN.\n",
    "1. Show the Mean Absolute Error (MAE) vs epoch from the training of your own ANN (as in Fig. 3 of the paper). I.e. you should show both the MAE metric on the training and the validation data.\n",
    "1. Check the accuracy of the pre-trained ANN by visually comparing some trajectories with the ANN predictions as in Fig. 4 of the paper. Add also the trajectory of your ANN and comment on its performance. (Note that you should not expect your own ANN to perform as well as the pre-trained one. In addition, the trajectories that are shown in the paper seem to be ones for which the model works very well).\n",
    "1. Check the computational cost of making a prediction with the ANN. You will find that it is much shorter than the numerical integration performed by `Brutus` (which according to the reference takes minutes to hours for finding a trajectory).\n",
    "1. Having access to these ANN emulators you can explore the chaotic aspect of this motion by creating a hundred different trajectories from a slightly disturbed initial condition. Try to reproduce Fig. 5 in the paper (both with the pre-trained and your own ANN)."
   ]
  },
  {
   "cell_type": "markdown",
   "metadata": {},
   "source": [
    "### Suggestions for how to proceed:\n",
    "* Follow the lead of the demo notebook for using tensorflow / keras (plus see the hints below).\n",
    "* First download and load the data set and the ANN from the paper (both available on the Canvas course page. Navigate to Files > Project2; see hint below)\n",
    "* It is suggested (but not required) to create helper functions (see hints below): \n",
    "  * `get_data` for extracting a trajectory (positions of particle 1 as a function of the discrete time) from the data; \n",
    "  * `get_trajectories` for generating the positions of all particles from a prediction output that contains the arrays of the first two particles' positions; \n",
    "  * `plot_trajectories` for plotting a trajectory.\n",
    "* When creating your own ANN it is suggested that you first design a smaller one than in the paper (e.g., using five dense layers with 64 neurons in each) and analyse how it performs by looking at the training vs validation error. The creation of a large network with ten layers and 128 nodes per layer is optional (and might require more cpu-hours for training).\n",
    "* Try first with the `relu` activation function and the `Adam` optimizer with a learning rate of 0.001 and moments of 0.5 (these hyper-parameters can easily be changed if you want; see hints below). \n",
    "    - The choice of optimizer  and hyper-parameters such as learning rate can certainly influence your results. For the interested, an extensive guide with open-source experimental results is published here: https://arxiv.org/abs/2007.01547.\n",
    "* Use 90% of the data for training and 10% for validation. You probably need at least hundred epochs for training and it is suggested to split the data into 10-100 batches (see hints below)."
   ]
  },
  {
   "cell_type": "markdown",
   "metadata": {},
   "source": [
    "### Comments and hints\n",
    "* Download the pre-trained ANN model `Breen_NN_project2.keras` and load it with: `pre_trained_model = keras.models.load_model(\"Breen_NN_project2.keras\")`. This file should also be included in the gzipped tarball that contains the project 2 files.\n",
    "  *Please let us know if you have difficulties loading this model as there might be compatibility issues between different `tensorflow` versions. As a backup, the weights of Breen's model are stored in `Breen_NN_project2.weights.h5` and can be loaded using the `load_weights()` method into a network of the correct topology (10 hidden layers of width 128; relu activation).*\n",
    "* The ANN input should be an array with three elements: $[t,x_2,y_2]$, where the last two will be the initial position of particle 2 and the first one is the time step for which the particle positions should be predicted. Remember that particle 1 always starts in $(1,0)$. \n",
    "* Input data corresponding to a single trajectory is then of shape $1000 \\times 3$ where the first column contains the time steps while the $x_2,y_2$ columns are repetitions of the initial position.\n",
    "* I.e., the inputs to the `tensorflow` network is a tensor with three columns where the second and third columns have values that are repeated (with values of the initial position at [t=0]) for all the rows corresponding to a single trajectory.\n",
    "* The output should be an array with four elements $[x_1,y_1,x_2,y_2]$ that corresponds to the positions of particles 1 and 2 at the time step $t$ that was given in the first position of the input. Again, we can consider a tensor (batch) of outputs corresponding, e.g., to a full trajectory.\n",
    "* As mentioned, some of the trajectories contain collisions such that the positions of the particles get stuck at (0, 0). Check the data to find those trajectories and remove them before training your model.\n",
    "* The data can be turned into a `tensorflow` dataset using: `dataset = tf.data.Dataset.from_tensor_slices((x, y))`, where `x` and `y` are input and output data, respectively (you might possibly need to reshape using `x.reshape(-1, 3)` and `y.reshape(-1, 4)`)\n",
    "* Having created a dataset, e.g. `train_dataset`, you can make batches (e.g. with batchsize 5000) with `train_dataset = train_dataset.batch(5000)`. The same should then be done for the validation data. As mentioned, the trajectories are represented by data points in sets of 1000 (time steps). While creating batches of data, make sure you are not mixing part of the data from one trajectory with a different trajectory. \n",
    "* When compiling a `tensorflow` model, with `model.compile()`, the Adam optimizer can be specified via the argument `optimizer=keras.optimizers.Adam(0.001, 0.5, 0.5)`\n",
    "* Furthermore, the loss function can be chosen using the argument `loss=keras.losses.MeanAbsoluteError()`\n",
    "* Fitting the model for 100 epochs with specified training and validation data sets can be performed with: `model.fit(train_dataset, epochs=100, validation_data = val_dataset)`\n",
    "* Given the cost of training the network with all data, it is not required to make extensive tests of tuning the hyperparameters.\n",
    "* More exact timing of a function can be measured using [\"Jupyter notebook magic\"](https://towardsdatascience.com/the-top-5-magic-commands-for-jupyter-notebooks-2bf0c5ae4bb8) by putting the command to be measured in a notebook cell that starts with `%timeit`. This will run the cell many times and report the mean and standard deviation of the evaluation time."
   ]
  },
  {
   "attachments": {},
   "cell_type": "markdown",
   "metadata": {},
   "source": [
    "#### Helper function docstrings\n",
    "The following are just suggestions. You are allowed to construct a solution using your own helper functions.\n",
    "\n"
   ]
  },
  {
   "cell_type": "markdown",
   "metadata": {},
   "source": [
    "---"
   ]
  },
  {
   "cell_type": "markdown",
   "metadata": {},
   "source": [
    "## Code Division Blocks\n",
    "The notebook has been divided into multiple subsections to improve readability. Each section will have an attached title and a brief description of the utility achieved by it."
   ]
  },
  {
   "cell_type": "markdown",
   "metadata": {},
   "source": [
    "### 1. Data and Model initialization\n",
    "The pre-defined `Breen` model and the custom model is loaded and the dataset is initialized (and sanity checked to remove the faulty trajectories)"
   ]
  },
  {
   "cell_type": "code",
   "execution_count": 17,
   "metadata": {},
   "outputs": [],
   "source": [
    "#importing existing model\n",
    "pre_trained_model = keras.models.load_model(\"Breen_NN_project2.keras\")"
   ]
  },
  {
   "cell_type": "code",
   "execution_count": 6,
   "metadata": {},
   "outputs": [],
   "source": [
    "#note\n",
    "#i have trained multiple models with different configurations of epochs and batch sizes\n",
    "#the models in the root folder are named according to the following format:\n",
    "# deep_ann_<batch_scale>xb_<epochs>e.keras\n",
    "#batch_scale refers to the integer we multiply the trajectory length with (1000 in our case) to get the batch size\n",
    "#epochs refers to the repetitions of the training fit"
   ]
  },
  {
   "cell_type": "code",
   "execution_count": 7,
   "metadata": {},
   "outputs": [],
   "source": [
    "#importing custom trained model\n",
    "three_body_model = keras.models.load_model(\"deep_ann_15xb_250e.keras\")"
   ]
  },
  {
   "cell_type": "code",
   "execution_count": 8,
   "metadata": {},
   "outputs": [],
   "source": [
    "def trajectory_checker(): #checks whether the particles get stuck at origin for all trajectories in data\n",
    "    \n",
    "    data_res = []\n",
    "    \n",
    "    valid_trajectory_flag = True #flag to designate whether a trajectory is valid or faulty (stuck)\n",
    "    \n",
    "    c1 = 0 #counters for identifying faulty trajectories\n",
    "    c2 = 0\n",
    "    c3 = 0\n",
    "    \n",
    "    for i in data: #looping through trajectories\n",
    "        valid_trajectory_flag = True\n",
    "        c2 = 0\n",
    "        for j in i: #looping through points in trajectory i\n",
    "            \n",
    "            x1 = j[1] #parsing coordinates for a specific time data entry\n",
    "            y1 = j[2]\n",
    "            x2 = j[3]\n",
    "            y2 = j[4]\n",
    "            x3 = -x1-x2\n",
    "            y3 = -y1-y2\n",
    "            \n",
    "            x_equality = (x1 == x2) and (x2 == x3) and (x3 == 0) #validity checking (all particles stuck at origin)\n",
    "            y_equality = (y1 == y2) and (y2 == y3) and (y3 == 0)\n",
    "            \n",
    "\n",
    "            if(x_equality and y_equality): #if all particles are stuck\n",
    "                #print(c1,c2)\n",
    "                #print(x1,x2,x3)\n",
    "                #print(y1,y2,y3)\n",
    "                c3 += 1\n",
    "                valid_trajectory_flag = False #invalidate trajectory\n",
    "                break\n",
    "            \n",
    "            c2 += 1\n",
    "        if(valid_trajectory_flag): #if i is a valid (unstuck) trajectory, add to resultant dataset\n",
    "            data_res.append(i)\n",
    "        c1 += 1\n",
    "    #print(c3)\n",
    "    return np.array(data_res)"
   ]
  },
  {
   "cell_type": "code",
   "execution_count": 9,
   "metadata": {},
   "outputs": [
    {
     "name": "stdout",
     "output_type": "stream",
     "text": [
      "(7623, 1000, 9)\n"
     ]
    }
   ],
   "source": [
    "data = trajectory_checker() #validating data\n",
    "print(data.shape)"
   ]
  },
  {
   "cell_type": "markdown",
   "metadata": {},
   "source": [
    "### 2. Helper Function Definitions\n",
    "Various functions have been defined to ease development of the tasks"
   ]
  },
  {
   "cell_type": "code",
   "execution_count": 10,
   "metadata": {},
   "outputs": [],
   "source": [
    "    def get_data(idx):\n",
    "        \"\"\"\n",
    "        Get one training instance from the data set at the index idx. \n",
    "        \n",
    "        The data is assumed to be in an array `data`.\n",
    "        \n",
    "        Args:\n",
    "            idx (int): An integer specifying which of the training example to fetch\n",
    "            \n",
    "        Returns:\n",
    "            x (array): An array of shape (time_steps, 3) which specifies the input to\n",
    "                       the neural network. The first column is the time and the second\n",
    "                       and third columns specify the (x, y) coordinates of the second\n",
    "                       particle. Note that the first particle is always assumed to be\n",
    "                       at (1, 0) and the third particle can be inferred from the first\n",
    "                       and second particle's position.\n",
    "                       \n",
    "            y (array): An array of shape (time_steps, 4) which specifies the output that \n",
    "                       is expected from the neural network.\n",
    "                       \n",
    "                       The first two columns specify the (x, y) coordinates of the first\n",
    "                       particles and the next two columns give the coordinates of the \n",
    "                       second particle for the specified time (length of the columns).\n",
    "                       The third particles position can be inferred from the first\n",
    "                       and second particle's position.\n",
    "        \"\"\"\n",
    "        y = 0\n",
    "        \n",
    "        data_instance = data[idx] #trajectory at idx\n",
    "\n",
    "        #format : [t, x_1, y_1, x_2, y_2, v_{x,1}, v_{y,1}, v_{x,2}, v_{y,2}]\n",
    "        t = data_instance[:,0]\n",
    "        x1 = data_instance[:,1]\n",
    "        y1 = data_instance[:,2]\n",
    "        x2 = data_instance[:,3]\n",
    "        y2 = data_instance[:,4]\n",
    "\n",
    "        x2_init = np.array([x2[0]] * len(x2))#initial 2nd particle position\n",
    "        y2_init = np.array([y2[0]] * len(y2))\n",
    "        \n",
    "        x = np.column_stack((t,x2_init,y2_init)) #input params\n",
    "        y = np.column_stack((x1,y1,x2,y2)) #output params\n",
    "        \n",
    "        return x,y\n",
    "        #raise NotImplementedError"
   ]
  },
  {
   "cell_type": "code",
   "execution_count": 11,
   "metadata": {},
   "outputs": [],
   "source": [
    "def get_trajectories(pred):\n",
    "    \"\"\"\n",
    "    Gets the trajectories from a predicted output pred.\n",
    "    \n",
    "    Args:\n",
    "        pred (array): An array of shape (N, 4) where N is the number of time\n",
    "                      steps. The four columns give the positions of the particles\n",
    "                      1 and 2 for all the time steps.\n",
    "    Returns:\n",
    "        p1, p2, p3 (tuple of arrays): Three arrays of dimensions (N, 2) where N is the number \n",
    "                             of time steps and the two columns for each array give \n",
    "                             the positions of the three particles (p1, p2, p3)\n",
    "    \"\"\"\n",
    "    x1 = pred[:,0]\n",
    "    y1 = pred[:,1]\n",
    "    x2 = pred[:,2]\n",
    "    y2 = pred[:,3]\n",
    "    x3 = -x1-x2 #cm frame of reference\n",
    "    y3 = -y1-y2\n",
    "    \n",
    "    p1 = np.column_stack((x1,y1))\n",
    "    p2 = np.column_stack((x2,y2))\n",
    "    p3 = np.column_stack((x3,y3))\n",
    "\n",
    "    return (p1,p2,p3)\n",
    "    #raise NotImplementedError"
   ]
  },
  {
   "cell_type": "code",
   "execution_count": 12,
   "metadata": {},
   "outputs": [],
   "source": [
    "def plot_trajectories(p1, p2, p3, ax=None, **kwargs):\n",
    "    \"\"\"\n",
    "    Plots trajectories for points p1, p2, p3\n",
    "    \n",
    "    Args:\n",
    "        p1, p2, p3 (array): Three arrays each of shape (n, 2) where n is the number\n",
    "                            of time steps. Each array is the (x, y) position for the\n",
    "                            particles\n",
    "        ax (axis object): Default None, in which case a new axis object is created.\n",
    "        kwargs (dict): Optional keyword arguments for plotting\n",
    "        \n",
    "    Returns:\n",
    "        ax: Axes object\n",
    "    \"\"\"\n",
    "    if ax is None:\n",
    "        fig, ax = plt.subplots()\n",
    "        \n",
    "    x1 = p1[:,0]\n",
    "    y1 = p1[:,1]\n",
    "    x2 = p2[:,0]\n",
    "    y2 = p2[:,1]\n",
    "    x3 = p3[:,0]\n",
    "    y3 = p3[:,1]\n",
    "\n",
    "    ax.plot(x1, y1, label=\"p1\", **kwargs)\n",
    "    ax.plot(x2, y2, label=\"p2\", **kwargs)\n",
    "    ax.plot(x3, y3, label=\"p3\", **kwargs)\n",
    "\n",
    "    ax.set_xlabel('X position')\n",
    "    ax.set_ylabel('Y position')\n",
    "    ax.legend()\n",
    "    \n",
    "    return ax\n",
    "    #raise NotImplementedError"
   ]
  },
  {
   "cell_type": "markdown",
   "metadata": {},
   "source": [
    "### 3. Model Generation and Training\n",
    "The custom model used to tackle the 3-body problem is generated and trained according to the rubrics specified. Note that given the computational costs of training a complex Deep Neural Network, actual training was not done in the jupyter notebook environment, but rather in a seperate `trainer.py` script run in a local shell environment on our personal computers. This was done to improve computation speed as the overhead of a Jupyter Notebook runtime slows down the training speed. \\\n",
    "The `trainer.py` will be included in the project folder. This section serves only as an example of the methodology used to initialize and train the model."
   ]
  },
  {
   "cell_type": "code",
   "execution_count": 19,
   "metadata": {},
   "outputs": [],
   "source": [
    "#data initialization\n",
    "#splitting into input and output parameters\n",
    "\n",
    "data_x = []\n",
    "data_y = []\n",
    "\n",
    "for i in range(data.shape[0]): #extracting x and y for each trajectory\n",
    "    x,y = get_data(i)\n",
    "    data_x.append(x) #appending x and y to a set\n",
    "    data_y.append(y)\n",
    "\n",
    "data_x = np.array(data_x)\n",
    "data_y = np.array(data_y)"
   ]
  },
  {
   "cell_type": "code",
   "execution_count": 20,
   "metadata": {},
   "outputs": [],
   "source": [
    "#splitting into training and validation datasets\n",
    "split_index = int(0.9 * data.shape[0]) #9:1 ratio of train:val\n",
    "\n",
    "data_x_train = data_x[:split_index]\n",
    "data_y_train = data_y[:split_index]\n",
    "data_x_val = data_x[split_index:]\n",
    "data_y_val = data_y[split_index:]\n",
    "\n",
    "#note: all training data should be in a single array and model fitting must be done in a single fit function\n",
    "#iterating over all trajectories and performing individual fits will end up in an ann that is fitted only to the last trajectory\n",
    "\n",
    "data_x_train = np.row_stack(data_x_train) #stacking all elements of training data into a single array\n",
    "data_y_train = np.row_stack(data_y_train)\n",
    "data_x_val = np.row_stack(data_x_val)\n",
    "data_y_val = np.row_stack(data_y_val)\n",
    "\n",
    "trajectory_length = 1000\n",
    "batch_scale = 15\n",
    "batch_size = batch_scale*trajectory_length #batch size must be an integer multiple of trajectory length to avoid mixing trajectory data points\n",
    "\n",
    "#print(data_x_train.shape)\n",
    "#print(data_y_train.shape)\n",
    "#print(data_x_val.shape)\n",
    "#print(data_y_val.shape)"
   ]
  },
  {
   "cell_type": "code",
   "execution_count": 21,
   "metadata": {},
   "outputs": [],
   "source": [
    "#converting data into a tensorflow dataset\n",
    "dataset_train = tf.data.Dataset.from_tensor_slices((data_x_train, data_y_train))\n",
    "dataset_val = tf.data.Dataset.from_tensor_slices((data_x_val,data_y_val))\n",
    "\n",
    "#dividing the dataset into batches\n",
    "dataset_train = dataset_train.batch(batch_size)\n",
    "dataset_val = dataset_val.batch(batch_size)"
   ]
  },
  {
   "cell_type": "code",
   "execution_count": 23,
   "metadata": {},
   "outputs": [],
   "source": [
    "#training\n",
    "\n",
    "#three_body_model.fit(dataset_train, epochs=250, validation_data=dataset_val)\n",
    "\n",
    "#the training model was run seperately in a local python script to fasten the process, as jupyter notebooks are slower in comparison.\n",
    "#the trainer.py script is attached in the folder\n",
    "#the history variable was inferred from"
   ]
  },
  {
   "cell_type": "markdown",
   "metadata": {},
   "source": [
    "### 4. Model Evaluation\n",
    "This section engages with the various metrics for evaluating the model, primarily in a comparitive study between the custom model vs the `Breen` model.\n",
    "The primary comparisons made are:\n",
    "- Layer and Parameter complexity\n",
    "- Batch size and epoch length\n",
    "- Visual trajectory closeness to the `Brutus` numerical solver\n",
    "- Mean Average Error plots for"
   ]
  },
  {
   "cell_type": "code",
   "execution_count": 24,
   "metadata": {},
   "outputs": [],
   "source": [
    "trajectory_index = 5\n",
    "test_x,test_y = get_data(trajectory_index) #checking model fit for a specific trajectory"
   ]
  },
  {
   "cell_type": "code",
   "execution_count": 25,
   "metadata": {},
   "outputs": [
    {
     "name": "stdout",
     "output_type": "stream",
     "text": [
      "\u001b[1m32/32\u001b[0m \u001b[32m━━━━━━━━━━━━━━━━━━━━\u001b[0m\u001b[37m\u001b[0m \u001b[1m0s\u001b[0m 2ms/step\n"
     ]
    }
   ],
   "source": [
    "predictions = three_body_model.predict(test_x) #custom model predictions"
   ]
  },
  {
   "cell_type": "code",
   "execution_count": 26,
   "metadata": {},
   "outputs": [
    {
     "data": {
      "image/png": "[encoded data removed]",
      "text/plain": [
       "<Figure size 640x480 with 1 Axes>"
      ]
     },
     "metadata": {},
     "output_type": "display_data"
    }
   ],
   "source": [
    "#trajectory plot of custom model\n",
    "pred_traj = get_trajectories(predictions)\n",
    "ax = plot_trajectories(pred_traj[0],pred_traj[1],pred_traj[2])"
   ]
  },
  {
   "cell_type": "code",
   "execution_count": null,
   "metadata": {},
   "outputs": [],
   "source": [
    "#trajectory plot of true dataset from the Brutus solver\n",
    "\n",
    "true_traj = get_trajectories(test_y)\n",
    "cx = plot_trajectories(true_traj[0],true_traj[1],true_traj[2])"
   ]
  },
  {
   "cell_type": "code",
   "execution_count": null,
   "metadata": {},
   "outputs": [],
   "source": [
    "#model predictions for model by Breen et. al.\n",
    "model_preds = pre_trained_model.predict(test_x)"
   ]
  },
  {
   "cell_type": "code",
   "execution_count": null,
   "metadata": {},
   "outputs": [],
   "source": [
    "#trajectory plot of the pre defined model by Breen et. al.\n",
    "model_traj = get_trajectories(model_preds)\n",
    "dx = plot_trajectories(model_traj[0],model_traj[1],model_traj[2])"
   ]
  },
  {
   "cell_type": "code",
   "execution_count": null,
   "metadata": {},
   "outputs": [],
   "source": [
    "#note: when comparing the two models (1st one with batch size 5000 and epochs 101, 2nd one with batch size 2000 and 500 epochs)\n",
    "#smaller batch sizes don't necessarily translate to instantly better fits\n",
    "#smaller batch sizes require proportionally higher epoch training times to achieve the better fit\n",
    "#larger batch sizes can get closer to the ideal fit in lesser epochs\n",
    "#but eventually the batch size serves as a bottleneck for the fit"
   ]
  },
  {
   "cell_type": "code",
   "execution_count": null,
   "metadata": {},
   "outputs": [],
   "source": [
    "#note: differing model fits between our custom model and the pre defined model occur primarily due to number of epochs.\n",
    "#The breen model was run for 10000 epochs as per the paper, so naturally a tighter convergence is guaranted when the\n",
    "#runtime is of an order of 10^2 higher than ours.\n",
    "#To maximize the accuracy for the given epochs, batch size was experimented with.\n",
    "#of our findings, a maximum validation accuracy of 0.9218 was achieved when a batch size of 15000 was used with 250 epochs.\n",
    "\n",
    "#For larger epoch values, the accuracy starts to plateau for larger batch sizes (15000 batch size plateau'd at around 135 epochs)\n",
    "#Ideally we'd like to recreate the paper's configuration but time is running short and we couldn't possibly train 10000 epochs\n",
    "#for batches of 5000, hence the aforementioned experimentation."
   ]
  },
  {
   "cell_type": "code",
   "execution_count": null,
   "metadata": {},
   "outputs": [],
   "source": [
    "#mae\n",
    "#as the history variable wasn't saved during training, a manual history directory was created from the saved training output instead\n",
    "import re\n",
    "import matplotlib.pyplot as plt\n",
    "\n",
    "# Open the file with the specified encoding\n",
    "with open('training_measurements/op_15xb_250e', 'r', encoding='utf-8', errors='ignore') as f:\n",
    "    terminal_output = f.read()\n",
    "\n",
    "# Compile patterns\n",
    "loss_pattern = re.compile(r\"\\bloss:\\s([\\d.]+)\\b\")               # Matches 'loss: value'\n",
    "accuracy_pattern = re.compile(r\"\\baccuracy:\\s([\\d.]+)\\b\")       # Matches 'accuracy: value'\n",
    "val_loss_pattern = re.compile(r\"\\bval_loss:\\s([\\d.]+)\\b\")       # Matches 'val_loss: value'\n",
    "val_accuracy_pattern = re.compile(r\"\\bval_accuracy:\\s([\\d.]+)\\b\")  # Matches 'val_accuracy: value\n",
    "\n",
    "# Find values\n",
    "loss = [float(x) for x in loss_pattern.findall(terminal_output)]\n",
    "accuracy = [float(x) for x in accuracy_pattern.findall(terminal_output)]\n",
    "val_loss = [float(x) for x in val_loss_pattern.findall(terminal_output)]\n",
    "val_accuracy = [float(x) for x in val_accuracy_pattern.findall(terminal_output)]\n",
    "\n",
    "# Store values in dictionary\n",
    "history_dict = {\n",
    "    'loss': loss,\n",
    "    'accuracy': accuracy,\n",
    "    'val_loss': val_loss,\n",
    "    'val_accuracy': val_accuracy\n",
    "}\n",
    "\n",
    "# Print lengths to check data\n",
    "for i in history_dict:\n",
    "    print(len(history_dict[i]))\n",
    "\n",
    "# Plot loss\n",
    "plt.plot(history_dict['loss'],'r', label='Training MAE')\n",
    "plt.plot(history_dict['val_loss'],'b--', label='Validation MAE')\n",
    "plt.xlabel('Epochs')\n",
    "plt.ylabel('Loss')\n",
    "plt.legend()\n",
    "plt.show()"
   ]
  },
  {
   "cell_type": "markdown",
   "metadata": {},
   "source": [
    "## Optional: Part 2 (extra task)\n",
    "* Create a helper function that extracts the velocity at each time step.\n",
    "* Compute the potential energy and the kinetic energy at each time step. The units are chosen such that the total energy is just the sum of these two.\n",
    "* Check for the conservation of energy in: (i) the data generated by `Brutus` (note that the velocities are given in the last few columns of the data file); (ii) the pre-trained model from the paper; (iii) your ANN model.\n",
    "* Create a custom loss function and re-train your model to be trained (constrained) by energy conservation. (Unfortunately, you should not expect any significant improvement in the model with the energy-conserving loss function.)\n",
    "* Reproduce Fig. 6 (with the green line being replaced by your energy-conserving ANN). "
   ]
  },
  {
   "cell_type": "markdown",
   "metadata": {},
   "source": [
    "### Comments and hints"
   ]
  },
  {
   "cell_type": "markdown",
   "metadata": {},
   "source": [
    "* You should probably define helper functions that compute potential energies, velocities and kinetic energies for points along a trajectory. Note that the masses start from rest.\n",
    "* In order to construct a `tensorflow` custom loss you will need `@tf.function()` versions of the same helper functions. Within these you can only use `tensforflow` methods such as: `tf.concat()` and `tf.math.sqrt()` (i.e., `numpy` methods cannot be used for these functions). \n",
    "* See (suggested) `tensorflow` helper functions docstrings below. \n",
    "* You can define a **custom loss function** that assumes a batch size that is equal to the number of time steps in a trajectory. You should also make sure that the data is not shuffled so that a **batch always corresponds to a trajectory**. Then you can use a **global time array** to be used to extract velocities and therefore kinetic energies.\n",
    "* See a suggested structure of the custom loss below. You might get problems with very large kinetic and potential energies for trajectories with close encounters. A suggestion is to clip very large values of `energy_error` in the return statement of the custom energy loss by `tf.clip_by_value(energy_error, -1e6, 1e6)`. \n",
    "* The custom loss is then used in `model.compile()` via the argument `loss=custom_energy_loss`."
   ]
  },
  {
   "cell_type": "markdown",
   "metadata": {},
   "source": [
    "#### Helper function docstrings\n",
    "The following are just suggestions. You are allowed to construct a solution using your own helper functions."
   ]
  },
  {
   "cell_type": "code",
   "execution_count": null,
   "metadata": {},
   "outputs": [],
   "source": [
    "import tensorflow as tf\n",
    "from tensorflow import keras\n",
    "\n",
    "@tf.function()\n",
    "def tf_ediff1d(a):\n",
    "    \"\"\"\n",
    "    TensorFlow equivalent of 1D difference.\n",
    "    \n",
    "    Args:\n",
    "        a (array): A TensorFlow array of dimension (N, 1)\n",
    "        \n",
    "    Returns:\n",
    "        diff (array): An array which gives the difference of successive elements of a.\n",
    "    \"\"\"\n",
    "    raise NotImplementedError\n",
    "\n",
    "@tf.function()\n",
    "def tf_compute_velocities(t, p):\n",
    "    \"\"\"\n",
    "    Computes the velocities of the particles from the trajectories starting from rest.\n",
    "    \n",
    "    Args:\n",
    "        t (array[float]): An array of shape (N, 1) giving time steps.\n",
    "        p (array): An array of dimension (N, 2) where N is the number \n",
    "                   of time steps and the two columns give the coordinates\n",
    "                   of the particle.\n",
    "                             \n",
    "    Returns:\n",
    "        v (array): An array of dimension (N, 2) where N is the number \n",
    "                   of time steps and the two columns for each array give \n",
    "                   the x and y components for the instantaneous velocity\n",
    "                   of the particle.\n",
    "    \"\"\"\n",
    "    raise NotImplementedError\n",
    "\n",
    "@tf.function()\n",
    "def tf_compute_kinetic_energy(v):\n",
    "    \"\"\"\n",
    "    Computes the kinetic energy for the given velocity vectors\n",
    "    \n",
    "    Args:\n",
    "        v (array): A (N,2) array of veolcities for N time steps.\n",
    "        \n",
    "    Returns:\n",
    "        ke (array): An array of shape (N, 1) giving the kinetic energies at each time step.\n",
    "    \"\"\"\n",
    "    raise NotImplementedError\n",
    "\n",
    "@tf.function()\n",
    "def tf_compute_potential_energy(p1, p2, p3):\n",
    "    \"\"\"\n",
    "    Computes the potential energy for the given position vectors. The value of the \n",
    "    gravitational constant is taken as 1 (G=1). The masses are the same value (m=1)\n",
    "    \n",
    "    Args:\n",
    "        p1, p2, p3 (tuple of arrays): Three arrays of dimensions (N, 2) where N is the number \n",
    "                             of time steps and the two columns for each array give \n",
    "                             the positions of the three particles (p1, p2, p3)\n",
    "                             \n",
    "    Returns\n",
    "        pe (array): An array of shape(N, 1) giving the potential energy at each time step\n",
    "        \n",
    "    \"\"\"\n",
    "    raise NotImplementedError"
   ]
  },
  {
   "cell_type": "code",
   "execution_count": null,
   "metadata": {},
   "outputs": [],
   "source": [
    "# Suggested structure of the custom loss function\n",
    "tlist = ... # Which will be used in the custom loss\n",
    "\n",
    "def custom_loss(y, y_pred):\n",
    "    \"\"\"\n",
    "    A custom loss function computing error in energy conservation.\n",
    "    \"\"\"\n",
    "    predicted_positions = ... # Obtained from y_pred\n",
    "    predicted_velocities = ... # Obtained from predicted_positions, tlist\n",
    "\n",
    "    initial_potential_energy = ... # Obtained from positions (y)\n",
    "\n",
    "    ke_predicted_trajectory = ...# Obtained from predicted_velocities\n",
    "    pe_predicted_trajectory = ... # Obtained from predicted_positions\n",
    "\n",
    "    error = (ke_predicted_trajectory + pe_predicted_trajectory -\n",
    "                 initial_potential_energy)\n",
    "\n",
    "    energy_loss = tf.reduce_mean(tf.abs(error))\n",
    "    # The relative weight of the two terms in the custom loss might be tuned.\n",
    "    return tf.keras.losses.MeanAbsoluteError()(y, y_pred) + 0.001*energy_loss"
   ]
  },
  {
   "cell_type": "code",
   "execution_count": null,
   "metadata": {},
   "outputs": [],
   "source": []
  }
 ],
 "metadata": {
  "kernelspec": {
   "display_name": "Python 3 (ipykernel)",
   "language": "python",
   "name": "python3"
  },
  "language_info": {
   "codemirror_mode": {
    "name": "ipython",
    "version": 3
   },
   "file_extension": ".py",
   "mimetype": "text/x-python",
   "name": "python",
   "nbconvert_exporter": "python",
   "pygments_lexer": "ipython3",
   "version": "3.12.5"
  }
 },
 "nbformat": 4,
 "nbformat_minor": 4
}
